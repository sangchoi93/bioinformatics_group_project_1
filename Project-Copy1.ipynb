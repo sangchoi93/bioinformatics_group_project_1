{
 "cells": [
  {
   "cell_type": "code",
   "execution_count": 121,
   "metadata": {
    "scrolled": false
   },
   "outputs": [
    {
     "name": "stdout",
     "output_type": "stream",
     "text": [
      "         IDs  length Exptl.  resolution  R-factor  FreeRvalue\n",
      "0      12ASA     330   XRAY        2.20      0.16        0.29\n",
      "1      16VPA     366   XRAY        2.10      0.19        0.26\n",
      "2      19HCA     292   XRAY        1.80      0.17        1.00\n",
      "3      1A0AA      63   XRAY        2.80      0.23        0.28\n",
      "4      1A0IA     348   XRAY        2.60      0.22        0.34\n",
      "...      ...     ...    ...         ...       ...         ...\n",
      "18872  6ULOA     334   XRAY        1.30      0.14        0.17\n",
      "18873  7A3HA     303   XRAY        0.95      0.11        0.13\n",
      "18874  7AHLA     293   XRAY        1.89      0.20        0.26\n",
      "18875  7ODCA     424   XRAY        1.60      0.20        0.23\n",
      "18876  8ABPA     306   XRAY        1.49      0.17        1.00\n",
      "\n",
      "[18877 rows x 6 columns]\n",
      "       cur_atom cur_chain_id cur_iCode cur_res_name  cur_res_seq end_chain_id  \\\n",
      "0             N            A       NaN          GLY           91            A   \n",
      "1             N            A       NaN          GLU          120            A   \n",
      "2             N            A       NaN          ILE          295            A   \n",
      "3             N            A       NaN          GLY          253            A   \n",
      "4             N            A       NaN          ASN          240            A   \n",
      "...         ...          ...       ...          ...          ...          ...   \n",
      "141416        N            A       NaN          ALA          139            A   \n",
      "141417        N            A       NaN          LEU          200            A   \n",
      "141418        N            A       NaN          ILE          227            A   \n",
      "141419        N            A       NaN          GLY          250            A   \n",
      "141420        N            A       NaN          ILE          289            A   \n",
      "\n",
      "       end_iCode end_res_name  end_seq_num init_chain_id  ... prev_atom  \\\n",
      "0            NaN          LEU           99             A  ...         O   \n",
      "1            NaN          VAL          122             A  ...         O   \n",
      "2            NaN          GLY          296             A  ...         O   \n",
      "3            NaN          ILE          254             A  ...         O   \n",
      "4            NaN          ASN          240             A  ...         O   \n",
      "...          ...          ...          ...           ...  ...       ...   \n",
      "141416       NaN          THR          141             A  ...         O   \n",
      "141417       NaN          MET          204             A  ...         O   \n",
      "141418       NaN          ASN          232             A  ...         O   \n",
      "141419       NaN          LEU          253             A  ...         O   \n",
      "141420       NaN          ARG          291             A  ...         O   \n",
      "\n",
      "       prev_chain_id  prev_res_name  prev_res_seq protein_name record_name  \\\n",
      "0                  A            ILE            30         12AS       SHEET   \n",
      "1                  A            LEU            92         12AS       SHEET   \n",
      "2                  A            TRP           117         12AS       SHEET   \n",
      "3                  A            GLY           292         12AS       SHEET   \n",
      "4                  A            ASP           245         12AS       SHEET   \n",
      "...              ...            ...           ...          ...         ...   \n",
      "141416             A            TYR           170         8ABP       SHEET   \n",
      "141417             A            ALA           136         8ABP       SHEET   \n",
      "141418             A            TRP           199         8ABP       SHEET   \n",
      "141419             A            GLY           228         8ABP       SHEET   \n",
      "141420             A            SER           251         8ABP       SHEET   \n",
      "\n",
      "       rev_iCode  sense sheet_id strand  \n",
      "0            NaN      1        A      2  \n",
      "1            NaN     -1        A      3  \n",
      "2            NaN     -1        A      4  \n",
      "3            NaN     -1        A      5  \n",
      "4            NaN     -1        A      6  \n",
      "...          ...    ...      ...    ...  \n",
      "141416       NaN      1       S2      2  \n",
      "141417       NaN      1       S2      3  \n",
      "141418       NaN      1       S2      4  \n",
      "141419       NaN      1       S2      5  \n",
      "141420       NaN     -1       S2      6  \n",
      "\n",
      "[141421 rows x 24 columns]\n"
     ]
    }
   ],
   "source": [
    "import requests\n",
    "import json\n",
    "import numpy as np\n",
    "import pandas as pd\n",
    "import os\n",
    "from collections import Counter\n",
    "from requests.adapters import HTTPAdapter\n",
    "from requests.packages.urllib3.util.retry import Retry\n",
    "\n",
    "format_spacing = {\n",
    "    'ATOM' : { \n",
    "        'spacing': [6, 11, 16, 17, 20, 22, 26, 27, 38, 46, 54, 60, 66, 78, 80],\n",
    "        'label': ['record_name', 'serial_number', \n",
    "                  'atom_name', 'alt_loc', 'res_name', \n",
    "                  'chain_id', 'res_seq', 'iCode', \n",
    "                  'x', 'y', 'z', 'occupancy', 'tempFactor', \n",
    "                  'element', 'charge']\n",
    "    },\n",
    "    'HELIX' : {\n",
    "        'spacing': [6, 10, 14, 18, 20, 25, 26, 30, 32, 37, 38, 40, 70, 76],\n",
    "        'label': ['record_name', 'serial_number', 'helix_id', 'init_res_name',\n",
    "                  'init_chain_id', 'init_seq_num', 'init_iCode', 'end_res_name',\n",
    "                  'end_chain_id', 'end_seq_num', 'end_iCode', 'helix_class',\n",
    "                  'comment', 'length']\n",
    "    },\n",
    "    'SHEET' : {\n",
    "        'spacing': [6, 10, 14, 16, 20, 22, 26, 27, 31, 33, 37, 38, 40, 45, 48, 50, 54, 55, 60, 63, 65, 69, 70],\n",
    "        'label': ['record_name', 'strand', 'sheet_id', 'num_strands', 'init_res_name',\n",
    "                  'init_chain_id', 'init_seq_num', 'init_iCode', 'end_res_name',\n",
    "                  'end_chain_id', 'end_seq_num', 'end_iCode', 'sense', 'cur_atom', 'cur_res_name',\n",
    "                  'cur_chain_id', 'cur_res_seq', 'cur_iCode', 'prev_atom', 'prev_res_name', \n",
    "                  'prev_chain_id', 'prev_res_seq', 'rev_iCode']\n",
    "    }\n",
    "}\n",
    "\n",
    "atom_backchain = ['N', 'CA', 'C', 'O']\n",
    "\n",
    "\n",
    "def parse_list_pdb( file_name: str):\n",
    "    with open(file_name, 'r') as file_list_pdb:\n",
    "        df_list_pdb = pd.read_csv(file_list_pdb, delimiter=' ', skipinitialspace=True)\n",
    "    print(df_list_pdb)   \n",
    "    return df_list_pdb\n",
    "\n",
    "def parse_pdb_data( str_pdb: str, keyword: str, protein_name: str):\n",
    "    if keyword in format_spacing.keys() and str_pdb.split(' ')[0] == keyword:\n",
    "        l_label = format_spacing[keyword]['label']\n",
    "        l_spacing = format_spacing[keyword]['spacing']\n",
    "        if len(l_label) != len(l_spacing):\n",
    "            raise Exception('length of label and spacing for {} not matching'.format(keyword))\n",
    "        else:\n",
    "            tmp_dict = dict()\n",
    "            for i in range(len(l_spacing)):\n",
    "                if i == 0:\n",
    "                    tmp_dict[l_label[i]] = str_pdb[0:l_spacing[i]].strip()\n",
    "                else:\n",
    "                    tmp_dict[l_label[i]] = str_pdb[l_spacing[i - 1]:l_spacing[i]].strip()\n",
    "\n",
    "            tmp_dict['protein_name'] = protein_name\n",
    "            return tmp_dict\n",
    "\n",
    "def process_pdb(pdb_name, len_atom, df_sheet):\n",
    "    protein_name = pdb_name[:-1]\n",
    "    protein_chain = pdb_name[-1]\n",
    "    num_atoms_detected = 0\n",
    "\n",
    "    if not (os.path.exists(pdb_dir + '/{}.pdb'.format(protein_name))):\n",
    "        with open(pdb_dir + '/{}.pdb'.format(protein_name), 'wb') as f:\n",
    "            print('Beginning {} pdb file download with requests'.format(pdb_name))\n",
    "            session = requests.Session()\n",
    "            retry = Retry(connect=3, backoff_factor=0.5)\n",
    "            adapter = HTTPAdapter(max_retries=retry)\n",
    "            session.mount('http://', adapter)\n",
    "            session.mount('https://', adapter)\n",
    "            url = 'https://files.rcsb.org/view/{}.pdb'.format(protein_name)\n",
    "            r = session.get(url)\n",
    "            f.write(r.content)\n",
    "\n",
    "    with open(pdb_dir + '/{}.pdb'.format(protein_name), 'r') as f:\n",
    "        for line in f.readlines():\n",
    "            dict_parsed_atom = parse_pdb_data(line, 'ATOM', protein_name)\n",
    "            dict_parsed_helix = parse_pdb_data(line, 'HELIX', protein_name)\n",
    "            dict_parsed_sheet = parse_pdb_data(line, 'SHEET', protein_name)\n",
    "            \n",
    "            if dict_parsed_sheet:\n",
    "                if dict_parsed_sheet['cur_chain_id'] == protein_chain:\n",
    "                    df_sheet = df_sheet.append(dict_parsed_sheet, ignore_index=True)\n",
    "    df_csv = df_sheet.to_csv(r'C:\\Users\\g.m.de.la.torre\\Documents\\School Python\\df_export.csv', index = None, header=True)\n",
    "    \n",
    "    return df_sheet\n",
    "\n",
    "\n",
    "def pdb_parser(index_to_break, df_sheet):\n",
    "    if index_to_break == -1:\n",
    "        print('parsing all pdb in {}'.format(filename_list_pdb))\n",
    "    else:\n",
    "        print('parsing first {} proteins in {}'.format(index_to_break, filename_list_pdb))\n",
    "    \n",
    "    for index, pdb in df_pdb_list.iterrows():\n",
    "        if index == index_to_break:\n",
    "            break\n",
    "        pdb_id = pdb['IDs']\n",
    "        #print('parsing {}...'.format(pdb_id))\n",
    "        df_sheet = process_pdb(pdb_id, pdb['length'], df_sheet)\n",
    "    \n",
    "    print(\"-\"*120,\"\\nCurrent:\",Counter(df_sheet.cur_res_name))\n",
    "    print(\"\\nDirection:\",Counter(df_sheet.sense))\n",
    "    print(\"\\nInitial:\",Counter(df_sheet.init_res_name))\n",
    "    print(\"\\nEnd\",Counter(df_sheet.end_res_name))\n",
    "    print(\"-\"*120,\"\\n\",df_sheet.info())\n",
    "    return df_sheet\n",
    "\n",
    "df_atom = pd.DataFrame()\n",
    "df_sheet = pd.DataFrame()\n",
    "df_helix = pd.DataFrame()\n",
    "filename_list_pdb = 'cullpdb_pc30_res3.0_R1.0_d191017_chains18877.gz'\n",
    "df_pdb_list = parse_list_pdb(filename_list_pdb)\n",
    "pdb_dir = './pdb_data'\n",
    "\n",
    "df_sheet = pd.read_csv('df_sheet_export.csv')\n",
    "#ran to make the original df_sheet_export, after created you can just read the csv\n",
    "#df_sheet = pdb_parser(-1, df_sheet)\n",
    "print(df_sheet)"
   ]
  },
  {
   "cell_type": "code",
   "execution_count": 122,
   "metadata": {
    "scrolled": true
   },
   "outputs": [],
   "source": [
    "strands_df = df_sheet.drop_duplicates(subset=[\"protein_name\", \"sheet_id\"], keep=\"last\")\n",
    "df_csv = strands_df.to_csv(r'C:\\Users\\g.m.de.la.torre\\Documents\\School Python\\df_strands.csv', index = None, header=True)"
   ]
  },
  {
   "cell_type": "markdown",
   "metadata": {},
   "source": [
    "5. Analyze the amino acids that prefer to form/be part of beta-sheets. \n"
   ]
  },
  {
   "cell_type": "code",
   "execution_count": 123,
   "metadata": {
    "scrolled": true
   },
   "outputs": [
    {
     "name": "stdout",
     "output_type": "stream",
     "text": [
      "------------------------------------------------------------------------------------------------------------------------ \n",
      "Current: Counter({'VAL': 20473, 'LEU': 17167, 'ILE': 16399, 'PHE': 9150, 'ALA': 8617, 'TYR': 8380, 'THR': 7962, 'ARG': 6404, 'LYS': 6337, 'SER': 6187, 'GLY': 6177, 'GLU': 6026, 'GLN': 4060, 'ASP': 3296, 'HIS': 3263, 'ASN': 2936, 'TRP': 2736, 'MET': 2666, 'CYS': 2192, 'MSE': 775, 'PRO': 168, 'MLY': 18, 'KCX': 10, 'UNK': 6, 'CME': 2, 'KPI': 2, 'CSO': 2, 'SEC': 1, 'LVN': 1, 'SEP': 1, 'CSD': 1, 'GPL': 1, 'PTR': 1, '6V1': 1, 'OCY': 1, 'MLZ': 1, 'SMC': 1})\n",
      "\n",
      "Direction: Counter({-1: 97784, 1: 43628, 0: 3, 9: 2, 8: 1, 7: 1, 28: 1, 16: 1})\n",
      "\n",
      "Initial: Counter({'VAL': 16965, 'LEU': 12828, 'ILE': 12054, 'THR': 10851, 'LYS': 9409, 'GLY': 8872, 'ALA': 8441, 'ARG': 8382, 'PHE': 7404, 'GLU': 7258, 'SER': 7106, 'TYR': 6975, 'GLN': 4983, 'HIS': 3852, 'ASN': 3527, 'ASP': 3172, 'TRP': 2588, 'MET': 2294, 'CYS': 2160, 'PRO': 1495, 'MSE': 747, 'MLY': 27, 'CME': 5, 'TYI': 4, 'UNK': 4, 'OCS': 2, 'TPQ': 2, 'CSO': 2, 'MLZ': 2, 'CSX': 1, 'SEC': 1, 'MHO': 1, 'TYQ': 1, 'CSS': 1, '1OP': 1, 'KCX': 1, '6V1': 1, 'YCM': 1, 'OCY': 1})\n",
      "\n",
      "End: Counter({'VAL': 13869, 'LEU': 12465, 'ILE': 11157, 'SER': 10131, 'ASP': 9991, 'THR': 9128, 'ALA': 8048, 'PHE': 7559, 'ARG': 6386, 'PRO': 6385, 'GLU': 6359, 'GLY': 6358, 'TYR': 6205, 'ASN': 6101, 'LYS': 6017, 'GLN': 4007, 'HIS': 3835, 'CYS': 2504, 'TRP': 2205, 'MET': 2077, 'MSE': 581, 'MLY': 23, 'KCX': 6, 'UNK': 5, 'CSD': 3, 'CSX': 3, 'CSO': 3, 'CME': 3, 'OCS': 2, 'CSS': 1, 'LVN': 1, 'SEP': 1, 'CYQ': 1, 'SME': 1})\n"
     ]
    }
   ],
   "source": [
    "print(\"-\"*120,\"\\nCurrent:\",Counter(df_sheet.cur_res_name))\n",
    "print(\"\\nDirection:\",Counter(df_sheet.sense))\n",
    "print(\"\\nInitial:\",Counter(df_sheet.init_res_name))\n",
    "print(\"\\nEnd:\",Counter(df_sheet.end_res_name))"
   ]
  },
  {
   "cell_type": "markdown",
   "metadata": {},
   "source": [
    "5. Analyze the number of strands in beta-sheets."
   ]
  },
  {
   "cell_type": "code",
   "execution_count": 124,
   "metadata": {},
   "outputs": [
    {
     "name": "stdout",
     "output_type": "stream",
     "text": [
      "\n",
      "Strands: Counter({2: 11143, 4: 8708, 3: 5883, 5: 5820, 6: 4187, 7: 2978, 8: 1904, 9: 1070, 10: 624, 12: 247, 11: 195, 14: 118, 13: 102, 16: 52, 18: 33, 15: 30, 17: 24, 20: 22, 19: 18, 1: 10, 22: 8, 21: 7, 23: 7, 28: 6, 25: 5, 36: 4, 24: 4, 31: 2, 26: 2, 32: 2, 43: 1, 27: 1, 30: 1, 34: 1, 48: 1, 75: 1})\n"
     ]
    }
   ],
   "source": [
    "print(\"\\nStrands:\",Counter(strands_df.num_strands))"
   ]
  },
  {
   "cell_type": "markdown",
   "metadata": {},
   "source": [
    "7. Analyze the length of bonds and the angle between different type of backbone atoms in\n",
    "general and for individual AAs."
   ]
  },
  {
   "cell_type": "code",
   "execution_count": 125,
   "metadata": {
    "scrolled": true
   },
   "outputs": [
    {
     "name": "stdout",
     "output_type": "stream",
     "text": [
      "0         12AS\n",
      "2559      16VP\n",
      "5016      19HC\n",
      "7222      1A0A\n",
      "7720      1A0I\n",
      "          ... \n",
      "392151    1DP7\n",
      "392775    1DPJ\n",
      "393008    1DQ3\n",
      "396763    1DQG\n",
      "397848    1DQP\n",
      "Name: protein_name, Length: 220, dtype: object\n"
     ]
    }
   ],
   "source": [
    "df_atom = pd.read_csv('df_atom_export.csv')\n",
    "protein_list = df_atom.drop_duplicates('protein_name')\n",
    "print(protein_list['protein_name'])"
   ]
  },
  {
   "cell_type": "code",
   "execution_count": 126,
   "metadata": {},
   "outputs": [
    {
     "name": "stdout",
     "output_type": "stream",
     "text": [
      "Distance from CA to CA\n",
      "Max: 113.35855197116803\n",
      "Min: 0.0064807406984157805\n",
      "Mean: 3.826283882257711\n",
      "Median: 3.8045274345179854\n"
     ]
    }
   ],
   "source": [
    "import math\n",
    "import matplotlib.pyplot, pylab\n",
    "import statistics\n",
    "\n",
    "distance_list = []\n",
    "def distance(x1, y1, z1, x2, y2, z2):  \n",
    "       \n",
    "    d = math.sqrt(math.pow(x2 - x1, 2) +\n",
    "                math.pow(y2 - y1, 2) +\n",
    "                math.pow(z2 - z1, 2)* 1.0) \n",
    "    distance_list.append(d)\n",
    "    \n",
    "def dis (protein):\n",
    "    for index in protein.index:\n",
    "        try:\n",
    "            x1 = protein['x'][index]\n",
    "            y1 = protein['y'][index]\n",
    "            z1 = protein['z'][index]\n",
    "            x2 = protein['x'][index+1]\n",
    "            y2 = protein['y'][index+1]\n",
    "            z2 = protein['z'][index+1]\n",
    "            distance(x1, y1, z1, x2, y2, z2) \n",
    "        except:\n",
    "            continue\n",
    "\n",
    "for name in protein_list['protein_name']:\n",
    "    df_pro_name = (df_atom[df_atom['protein_name'] == name])\n",
    "    df_pro_name = (df_pro_name[df_pro_name['atom_name'] == 'CA']).reset_index(drop=True)\n",
    "    dis(df_pro_name)\n",
    "print('Distance from CA to CA')\n",
    "print('Max:',max(distance_list))\n",
    "print('Min:',min(distance_list))\n",
    "print('Mean:',statistics.mean(distance_list))\n",
    "print('Median:',statistics.median(distance_list))\n"
   ]
  },
  {
   "cell_type": "code",
   "execution_count": null,
   "metadata": {},
   "outputs": [],
   "source": []
  }
 ],
 "metadata": {
  "kernelspec": {
   "display_name": "Python 3",
   "language": "python",
   "name": "python3"
  },
  "language_info": {
   "codemirror_mode": {
    "name": "ipython",
    "version": 3
   },
   "file_extension": ".py",
   "mimetype": "text/x-python",
   "name": "python",
   "nbconvert_exporter": "python",
   "pygments_lexer": "ipython3",
   "version": "3.7.4"
  }
 },
 "nbformat": 4,
 "nbformat_minor": 2
}
